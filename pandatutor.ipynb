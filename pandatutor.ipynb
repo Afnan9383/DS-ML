{
 "cells": [
  {
   "cell_type": "code",
   "execution_count": 1,
   "id": "187dbfe3",
   "metadata": {},
   "outputs": [
    {
     "name": "stdout",
     "output_type": "stream",
     "text": [
      "0    1\n",
      "1    7\n",
      "2    2\n",
      "dtype: int64\n"
     ]
    }
   ],
   "source": [
    "#PANDAS\n",
    "\n",
    "\n",
    "#Create a simple Pandas Series from a list:\n",
    "\n",
    "import pandas as pd\n",
    "\n",
    "a = [1, 7, 2]\n",
    "\n",
    "myvar = pd.Series(a)\n",
    "\n",
    "print(myvar)\n"
   ]
  },
  {
   "cell_type": "code",
   "execution_count": 2,
   "id": "5db1c7c2",
   "metadata": {},
   "outputs": [
    {
     "name": "stdout",
     "output_type": "stream",
     "text": [
      "1\n"
     ]
    }
   ],
   "source": [
    "#Return the first value of the Series\n",
    "print(myvar[0])\n"
   ]
  },
  {
   "cell_type": "code",
   "execution_count": 3,
   "id": "8b03ea49",
   "metadata": {},
   "outputs": [
    {
     "name": "stdout",
     "output_type": "stream",
     "text": [
      "x    1\n",
      "y    7\n",
      "z    2\n",
      "dtype: int64\n"
     ]
    }
   ],
   "source": [
    "#Create your own labels:\n",
    "\n",
    "import pandas as pd\n",
    "\n",
    "a = [1, 7, 2]\n",
    "\n",
    "myvar = pd.Series(a, index = [\"x\", \"y\", \"z\"])\n",
    "\n",
    "print(myvar)"
   ]
  },
  {
   "cell_type": "code",
   "execution_count": 4,
   "id": "d830e5e2",
   "metadata": {},
   "outputs": [
    {
     "name": "stdout",
     "output_type": "stream",
     "text": [
      "7\n"
     ]
    }
   ],
   "source": [
    "#Return the value of \"y\":\n",
    "\n",
    "print(myvar[\"y\"])"
   ]
  },
  {
   "cell_type": "code",
   "execution_count": 5,
   "id": "9b0a6e61",
   "metadata": {},
   "outputs": [
    {
     "name": "stdout",
     "output_type": "stream",
     "text": [
      "day1    420\n",
      "day2    380\n",
      "day3    390\n",
      "dtype: int64\n"
     ]
    }
   ],
   "source": [
    "#Create a simple Pandas Series from a dictionary:\n",
    "\n",
    "import pandas as pd\n",
    "\n",
    "calories = {\"day1\": 420, \"day2\": 380, \"day3\": 390}\n",
    "\n",
    "myvar = pd.Series(calories)\n",
    "\n",
    "print(myvar)"
   ]
  },
  {
   "cell_type": "code",
   "execution_count": 6,
   "id": "6598e065",
   "metadata": {},
   "outputs": [
    {
     "name": "stdout",
     "output_type": "stream",
     "text": [
      "day1    420\n",
      "day2    380\n",
      "dtype: int64\n"
     ]
    }
   ],
   "source": [
    "#Create a Series using only data from \"day1\" and \"day2\":\n",
    "\n",
    "import pandas as pd\n",
    "\n",
    "calories = {\"day1\": 420, \"day2\": 380, \"day3\": 390}\n",
    "\n",
    "myvar = pd.Series(calories, index = [\"day1\", \"day2\"])\n",
    "\n",
    "print(myvar)"
   ]
  },
  {
   "cell_type": "code",
   "execution_count": 7,
   "id": "02db752f",
   "metadata": {},
   "outputs": [
    {
     "name": "stdout",
     "output_type": "stream",
     "text": [
      "   calories  duration\n",
      "0       420        50\n",
      "1       380        40\n",
      "2       390        45\n"
     ]
    }
   ],
   "source": [
    "#Create a DataFrame from two Series:\n",
    "\n",
    "import pandas as pd\n",
    "\n",
    "data = {\n",
    "  \"calories\": [420, 380, 390],\n",
    "  \"duration\": [50, 40, 45]\n",
    "}\n",
    "\n",
    "myvar = pd.DataFrame(data)\n",
    "\n",
    "print(myvar)"
   ]
  },
  {
   "cell_type": "code",
   "execution_count": 8,
   "id": "68a191d0",
   "metadata": {},
   "outputs": [
    {
     "name": "stdout",
     "output_type": "stream",
     "text": [
      "   calories  duration\n",
      "0       420        50\n",
      "1       380        40\n",
      "2       390        45\n"
     ]
    }
   ],
   "source": [
    "#Create a simple Pandas DataFrame:\n",
    "\n",
    "import pandas as pd\n",
    "\n",
    "data = {\n",
    "  \"calories\": [420, 380, 390],\n",
    "  \"duration\": [50, 40, 45]\n",
    "}\n",
    "\n",
    "#load data into a DataFrame object:\n",
    "df = pd.DataFrame(data)\n",
    "\n",
    "print(df) "
   ]
  },
  {
   "cell_type": "code",
   "execution_count": 9,
   "id": "93211abd",
   "metadata": {},
   "outputs": [
    {
     "name": "stdout",
     "output_type": "stream",
     "text": [
      "calories    420\n",
      "duration     50\n",
      "Name: 0, dtype: int64\n"
     ]
    }
   ],
   "source": [
    "#Return row 0:\n",
    "#refer to the row index:\n",
    "\n",
    "print(df.loc[0])"
   ]
  },
  {
   "cell_type": "code",
   "execution_count": 10,
   "id": "133fab61",
   "metadata": {},
   "outputs": [
    {
     "name": "stdout",
     "output_type": "stream",
     "text": [
      "   calories  duration\n",
      "0       420        50\n",
      "1       380        40\n"
     ]
    }
   ],
   "source": [
    "#Return row 0 and 1:\n",
    "#use a list of indexes:\n",
    "\n",
    "print(df.loc[[0, 1]])\n"
   ]
  },
  {
   "cell_type": "code",
   "execution_count": 2,
   "id": "6a5f93d3",
   "metadata": {},
   "outputs": [
    {
     "name": "stdout",
     "output_type": "stream",
     "text": [
      "       Name      HEX               RGB\n",
      "0     White  #FFFFFF  rgb(100,100,100)\n",
      "1    Silver  #C0C0C0     rgb(75,75,75)\n",
      "2      Gray  #808080     rgb(50,50,50)\n",
      "3     Black  #000000        rgb(0,0,0)\n",
      "4       Red  #FF0000      rgb(100,0,0)\n",
      "5    Maroon  #800000       rgb(50,0,0)\n",
      "6    Yellow  #FFFF00    rgb(100,100,0)\n",
      "7     Olive  #808000      rgb(50,50,0)\n",
      "8      Lime  #00FF00      rgb(0,100,0)\n",
      "9     Green  #008000       rgb(0,50,0)\n",
      "10     Aqua  #00FFFF    rgb(0,100,100)\n",
      "11     Teal  #008080      rgb(0,50,50)\n",
      "12     Blue  #0000FF      rgb(0,0,100)\n",
      "13     Navy  #000080       rgb(0,0,50)\n",
      "14  Fuchsia  #FF00FF    rgb(100,0,100)\n",
      "15   Purple  #800080      rgb(50,0,50)\n"
     ]
    }
   ],
   "source": [
    "#Load a comma separated file (CSV file) into a DataFrame:\n",
    "import pandas as pd\n",
    "\n",
    "df = pd.read_csv('color.csv')\n",
    "\n",
    "print(df) "
   ]
  },
  {
   "cell_type": "code",
   "execution_count": 4,
   "id": "a1c1456c",
   "metadata": {},
   "outputs": [
    {
     "name": "stdout",
     "output_type": "stream",
     "text": [
      "       Name      HEX               RGB\n",
      "0     White  #FFFFFF  rgb(100,100,100)\n",
      "1    Silver  #C0C0C0     rgb(75,75,75)\n",
      "2      Gray  #808080     rgb(50,50,50)\n",
      "3     Black  #000000        rgb(0,0,0)\n",
      "4       Red  #FF0000      rgb(100,0,0)\n",
      "5    Maroon  #800000       rgb(50,0,0)\n",
      "6    Yellow  #FFFF00    rgb(100,100,0)\n",
      "7     Olive  #808000      rgb(50,50,0)\n",
      "8      Lime  #00FF00      rgb(0,100,0)\n",
      "9     Green  #008000       rgb(0,50,0)\n",
      "10     Aqua  #00FFFF    rgb(0,100,100)\n",
      "11     Teal  #008080      rgb(0,50,50)\n",
      "12     Blue  #0000FF      rgb(0,0,100)\n",
      "13     Navy  #000080       rgb(0,0,50)\n",
      "14  Fuchsia  #FF00FF    rgb(100,0,100)\n",
      "15   Purple  #800080      rgb(50,0,50)\n"
     ]
    }
   ],
   "source": [
    "#Load the CSV into a DataFrame:\n",
    "\n",
    "import pandas as pd\n",
    "\n",
    "df = pd.read_csv('color.csv')\n",
    "\n",
    "print(df.to_string()) "
   ]
  },
  {
   "cell_type": "code",
   "execution_count": 9,
   "id": "e02ddf3e",
   "metadata": {},
   "outputs": [
    {
     "name": "stdout",
     "output_type": "stream",
     "text": [
      "       Name      HEX               RGB\n",
      "0     White  #FFFFFF  rgb(100,100,100)\n",
      "1    Silver  #C0C0C0     rgb(75,75,75)\n",
      "2      Gray  #808080     rgb(50,50,50)\n",
      "3     Black  #000000        rgb(0,0,0)\n",
      "4       Red  #FF0000      rgb(100,0,0)\n",
      "..      ...      ...               ...\n",
      "11     Teal  #008080      rgb(0,50,50)\n",
      "12     Blue  #0000FF      rgb(0,0,100)\n",
      "13     Navy  #000080       rgb(0,0,50)\n",
      "14  Fuchsia  #FF00FF    rgb(100,0,100)\n",
      "15   Purple  #800080      rgb(50,0,50)\n",
      "\n",
      "[16 rows x 3 columns]\n"
     ]
    }
   ],
   "source": [
    "#Increase the maximum number of rows to display the entire DataFrame:\n",
    "\n",
    "import pandas as pd\n",
    "\n",
    "pd.options.display.max_rows = 10\n",
    "\n",
    "df = pd.read_csv('color.csv')\n",
    "\n",
    "print(df) "
   ]
  },
  {
   "cell_type": "code",
   "execution_count": 10,
   "id": "78e9c002",
   "metadata": {},
   "outputs": [
    {
     "name": "stdout",
     "output_type": "stream",
     "text": [
      "     Name      HEX               RGB\n",
      "0   White  #FFFFFF  rgb(100,100,100)\n",
      "1  Silver  #C0C0C0     rgb(75,75,75)\n",
      "2    Gray  #808080     rgb(50,50,50)\n",
      "3   Black  #000000        rgb(0,0,0)\n",
      "4     Red  #FF0000      rgb(100,0,0)\n",
      "5  Maroon  #800000       rgb(50,0,0)\n",
      "6  Yellow  #FFFF00    rgb(100,100,0)\n",
      "7   Olive  #808000      rgb(50,50,0)\n"
     ]
    }
   ],
   "source": [
    "#Get a quick overview by printing the first 10 rows of the DataFrame:\n",
    "import pandas as pd\n",
    "\n",
    "df = pd.read_csv('color.csv')\n",
    "\n",
    "print(df.head(8)) "
   ]
  },
  {
   "cell_type": "code",
   "execution_count": 11,
   "id": "6863d3d0",
   "metadata": {},
   "outputs": [
    {
     "name": "stdout",
     "output_type": "stream",
     "text": [
      "     Name      HEX               RGB\n",
      "0   White  #FFFFFF  rgb(100,100,100)\n",
      "1  Silver  #C0C0C0     rgb(75,75,75)\n",
      "2    Gray  #808080     rgb(50,50,50)\n",
      "3   Black  #000000        rgb(0,0,0)\n",
      "4     Red  #FF0000      rgb(100,0,0)\n"
     ]
    }
   ],
   "source": [
    "#Print the first 5 rows of the DataFrame:\n",
    "import pandas as pd\n",
    "\n",
    "df = pd.read_csv('color.csv')\n",
    "\n",
    "print(df.head()) "
   ]
  },
  {
   "cell_type": "code",
   "execution_count": 12,
   "id": "af83550f",
   "metadata": {},
   "outputs": [
    {
     "name": "stdout",
     "output_type": "stream",
     "text": [
      "       Name      HEX             RGB\n",
      "11     Teal  #008080    rgb(0,50,50)\n",
      "12     Blue  #0000FF    rgb(0,0,100)\n",
      "13     Navy  #000080     rgb(0,0,50)\n",
      "14  Fuchsia  #FF00FF  rgb(100,0,100)\n",
      "15   Purple  #800080    rgb(50,0,50)\n"
     ]
    }
   ],
   "source": [
    "#Print the last 5 rows of the DataFrame:\n",
    "print(df.tail()) "
   ]
  },
  {
   "cell_type": "code",
   "execution_count": 13,
   "id": "b765c660",
   "metadata": {},
   "outputs": [
    {
     "name": "stdout",
     "output_type": "stream",
     "text": [
      "<class 'pandas.core.frame.DataFrame'>\n",
      "RangeIndex: 16 entries, 0 to 15\n",
      "Data columns (total 3 columns):\n",
      " #   Column  Non-Null Count  Dtype \n",
      "---  ------  --------------  ----- \n",
      " 0   Name    16 non-null     object\n",
      " 1   HEX     16 non-null     object\n",
      " 2   RGB     16 non-null     object\n",
      "dtypes: object(3)\n",
      "memory usage: 516.0+ bytes\n",
      "None\n"
     ]
    }
   ],
   "source": [
    "#Print information about the data:\n",
    "\n",
    "print(df.info()) "
   ]
  },
  {
   "cell_type": "code",
   "execution_count": 14,
   "id": "cd3bc438",
   "metadata": {},
   "outputs": [
    {
     "name": "stdout",
     "output_type": "stream",
     "text": [
      "    Username   Identifier First name Last name\n",
      "0   booker12       9012.0     Rachel    Booker\n",
      "1     grey07       2070.0      Laura      Grey\n",
      "2  johnson81       4081.0      Craig   Johnson\n",
      "3  jenkins46       9346.0       Mary   Jenkins\n",
      "4    smith79       5079.0      Jamie     Smith\n",
      "5  johnson81       4081.0      Craig   Johnson\n",
      "6    charlie       1232.0        NaN      putt\n",
      "7   jennifer          NaN      jenni        13\n"
     ]
    }
   ],
   "source": [
    "import pandas as pd\n",
    "\n",
    "df = pd.read_csv('username.csv')\n",
    "\n",
    "print(df)"
   ]
  },
  {
   "cell_type": "code",
   "execution_count": 15,
   "id": "aa6f5c46",
   "metadata": {},
   "outputs": [
    {
     "name": "stdout",
     "output_type": "stream",
     "text": [
      "    Username   Identifier First name Last name\n",
      "0   booker12       9012.0     Rachel    Booker\n",
      "1     grey07       2070.0      Laura      Grey\n",
      "2  johnson81       4081.0      Craig   Johnson\n",
      "3  jenkins46       9346.0       Mary   Jenkins\n",
      "4    smith79       5079.0      Jamie     Smith\n",
      "5  johnson81       4081.0      Craig   Johnson\n"
     ]
    }
   ],
   "source": [
    "#Return a new Data Frame with no empty cells:\n",
    "import pandas as pd\n",
    "\n",
    "df = pd.read_csv('username.csv')\n",
    "\n",
    "new_df = df.dropna()\n",
    "\n",
    "print(new_df.to_string())"
   ]
  },
  {
   "cell_type": "code",
   "execution_count": 16,
   "id": "c7f2b61f",
   "metadata": {},
   "outputs": [
    {
     "name": "stdout",
     "output_type": "stream",
     "text": [
      "    Username   Identifier First name Last name\n",
      "0   booker12       9012.0     Rachel    Booker\n",
      "1     grey07       2070.0      Laura      Grey\n",
      "2  johnson81       4081.0      Craig   Johnson\n",
      "3  jenkins46       9346.0       Mary   Jenkins\n",
      "4    smith79       5079.0      Jamie     Smith\n",
      "5  johnson81       4081.0      Craig   Johnson\n"
     ]
    }
   ],
   "source": [
    "#Remove all rows with NULL values:\n",
    "import pandas as pd\n",
    "\n",
    "df = pd.read_csv('username.csv')\n",
    "\n",
    "df.dropna(inplace = True)\n",
    "\n",
    "print(df.to_string()) "
   ]
  },
  {
   "cell_type": "code",
   "execution_count": 20,
   "id": "2dfa3428",
   "metadata": {},
   "outputs": [
    {
     "name": "stdout",
     "output_type": "stream",
     "text": [
      "    Username   Identifier First name Last name\n",
      "0   booker12       9012.0     Rachel    Booker\n",
      "1     grey07       2070.0      Laura      Grey\n",
      "2  johnson81       4081.0      Craig   Johnson\n",
      "3  jenkins46       9346.0       Mary   Jenkins\n",
      "4    smith79       5079.0      Jamie     Smith\n",
      "5  johnson81       4081.0      Craig   Johnson\n",
      "6    charlie       1232.0        130      putt\n",
      "7   jennifer        130.0      jenni        13\n"
     ]
    }
   ],
   "source": [
    "#Replace NULL values with the number 130:\n",
    "import pandas as pd\n",
    "\n",
    "df = pd.read_csv('username.csv')\n",
    "\n",
    "df.fillna(130, inplace = True) \n",
    "print(df)"
   ]
  },
  {
   "cell_type": "code",
   "execution_count": 25,
   "id": "e5c12eb1",
   "metadata": {},
   "outputs": [
    {
     "name": "stdout",
     "output_type": "stream",
     "text": [
      "0    False\n",
      "1    False\n",
      "2    False\n",
      "3    False\n",
      "4    False\n",
      "5     True\n",
      "6    False\n",
      "7    False\n",
      "dtype: bool\n"
     ]
    }
   ],
   "source": [
    "#Returns True for every row that is a duplicate, otherwise False:\n",
    "print(df.duplicated())"
   ]
  },
  {
   "cell_type": "code",
   "execution_count": 27,
   "id": "df11aa69",
   "metadata": {},
   "outputs": [
    {
     "name": "stdout",
     "output_type": "stream",
     "text": [
      "    Username   Identifier First name Last name\n",
      "0   booker12       9012.0     Rachel    Booker\n",
      "1     grey07       2070.0      Laura      Grey\n",
      "2  johnson81       4081.0      Craig   Johnson\n",
      "3  jenkins46       9346.0       Mary   Jenkins\n",
      "4    smith79       5079.0      Jamie     Smith\n",
      "6    charlie       1232.0        NaN      putt\n",
      "7   jennifer          NaN      jenni        13\n"
     ]
    }
   ],
   "source": [
    "#Remove all duplicates:\n",
    "df.drop_duplicates(inplace = True) \n",
    "print(df)"
   ]
  },
  {
   "cell_type": "code",
   "execution_count": null,
   "id": "5fec54da",
   "metadata": {},
   "outputs": [],
   "source": []
  }
 ],
 "metadata": {
  "kernelspec": {
   "display_name": "Python 3 (ipykernel)",
   "language": "python",
   "name": "python3"
  },
  "language_info": {
   "codemirror_mode": {
    "name": "ipython",
    "version": 3
   },
   "file_extension": ".py",
   "mimetype": "text/x-python",
   "name": "python",
   "nbconvert_exporter": "python",
   "pygments_lexer": "ipython3",
   "version": "3.11.5"
  }
 },
 "nbformat": 4,
 "nbformat_minor": 5
}
